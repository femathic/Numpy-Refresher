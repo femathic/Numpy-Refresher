{
 "cells": [
  {
   "cell_type": "code",
   "execution_count": 2,
   "metadata": {},
   "outputs": [],
   "source": [
    "import numpy as np"
   ]
  },
  {
   "cell_type": "code",
   "execution_count": 3,
   "metadata": {},
   "outputs": [
    {
     "data": {
      "text/plain": [
       "array([[ 0,  1,  2,  3,  4],\n",
       "       [ 5,  6,  7,  8,  9],\n",
       "       [10, 11, 12, 13, 14]])"
      ]
     },
     "execution_count": 3,
     "metadata": {},
     "output_type": "execute_result"
    }
   ],
   "source": [
    "a = np.array([[ 0, 1, 2, 3, 4],[ 5, 6, 7, 8, 9],[10, 11, 12, 13, 14]])\n",
    "a"
   ]
  },
  {
   "cell_type": "code",
   "execution_count": 34,
   "metadata": {},
   "outputs": [
    {
     "name": "stdout",
     "output_type": "stream",
     "text": [
      "(3, 5)\n",
      "2\n",
      "15\n",
      "int32\n",
      "4\n",
      "<memory at 0x000001550242C908>\n"
     ]
    }
   ],
   "source": [
    "print(a.shape)\n",
    "print(a.ndim)\n",
    "print(a.size)\n",
    "print(a.dtype)\n",
    "print(a.itemsize)\n",
    "print(a.data)"
   ]
  },
  {
   "cell_type": "code",
   "execution_count": 5,
   "metadata": {},
   "outputs": [
    {
     "name": "stdout",
     "output_type": "stream",
     "text": [
      "[[ 0  1  2  3  4]\n",
      " [ 5  6  7  8  9]\n",
      " [10 11 12 13 14]]\n",
      "[[ 0  1  2  3  4]\n",
      " [ 5  6  7  8  9]\n",
      " [10 11 12 13 14]\n",
      " [15 16 17 18 19]]\n",
      "[[1.+0.j 2.+0.j]\n",
      " [3.+0.j 4.+0.j]]\n"
     ]
    }
   ],
   "source": [
    "b=np.arange(15).reshape(3,5)\n",
    "print(b)\n",
    "\n",
    "c= np.arange(20)\n",
    "c.shape = (4,5)\n",
    "print(c)\n",
    "\n",
    "d = np.array( [ [1,2], [3,4] ], dtype=complex )\n",
    "print(d)"
   ]
  },
  {
   "cell_type": "code",
   "execution_count": 23,
   "metadata": {},
   "outputs": [
    {
     "name": "stdout",
     "output_type": "stream",
     "text": [
      "[[0. 0. 0. 0.]\n",
      " [0. 0. 0. 0.]\n",
      " [0. 0. 0. 0.]]\n",
      "[[1. 1. 1. 1.]\n",
      " [1. 1. 1. 1.]\n",
      " [1. 1. 1. 1.]]\n",
      "[[10. 18. 26.]\n",
      " [34. 42. 50.]]\n",
      "[[6.23042070e-307 4.67296746e-307 1.69121096e-306 3.56038300e-307]\n",
      " [1.42418987e-306 1.37961641e-306 1.60220528e-306 1.24611266e-306]\n",
      " [9.34598925e-307 1.24612081e-306 1.11260755e-306 1.60220393e-306]\n",
      " [1.51320640e-306 9.34609790e-307 1.86921279e-306 1.24610723e-306]]\n",
      "[10 15 20 25 30 35 40 45]\n",
      "[10. 18. 26. 34. 42. 50.]\n",
      "0.479425538604203\n"
     ]
    }
   ],
   "source": [
    "f = np.zeros((3,4))\n",
    "print(f)\n",
    "\n",
    "g = np.ones((3,4))\n",
    "print(g)\n",
    "\n",
    "h = np.empty((2,3))\n",
    "print(h)\n",
    "\n",
    "h = np.empty((4,4))\n",
    "print(h)\n",
    "\n",
    "#To create a sequence of numbers (specify that it should move by 5)\n",
    "i = np.arange( 10, 50, 5 )\n",
    "print(i)\n",
    "\n",
    "#To create a sequence of numbers (specify that you need just 6 sequence)\n",
    "j = np.linspace( 10, 50, 6 )\n",
    "print(j)\n",
    "\n",
    "#To create a sequence of numbers (specify that you need just 6 sequence)\n",
    "k = np.sin(1/2)\n",
    "print(k)"
   ]
  },
  {
   "cell_type": "code",
   "execution_count": 29,
   "metadata": {},
   "outputs": [
    {
     "name": "stdout",
     "output_type": "stream",
     "text": [
      "[[0.2168386  0.8216993  0.23407363]\n",
      " [0.01046955 0.15467252 0.72891864]]\n",
      "[1.25387848 1.77916121 1.57120608 1.07321716 1.57587181]\n"
     ]
    }
   ],
   "source": [
    "#Random\n",
    "l = np.random.random((2,3))\n",
    "print(l)\n",
    "\n",
    "m = np.random.normal(1.50, 0.20, 5)\n",
    "print(m)"
   ]
  },
  {
   "cell_type": "code",
   "execution_count": 32,
   "metadata": {},
   "outputs": [
    {
     "name": "stdout",
     "output_type": "stream",
     "text": [
      "[[2 0]\n",
      " [0 4]]\n",
      "[[5 4]\n",
      " [3 4]]\n",
      "[[5 4]\n",
      " [3 4]]\n",
      "[[5 4]\n",
      " [3 4]]\n",
      "[[5 5]\n",
      " [0 5]]\n",
      "[[15 15]\n",
      " [10 15]]\n",
      "[[17 15]\n",
      " [13 19]]\n"
     ]
    }
   ],
   "source": [
    "#Multiplying Matrices\n",
    "A = np.array( [[1,1], [0,1]] )\n",
    "B = np.array( [[2,0],[3,4]] )\n",
    "\n",
    "print(A*B)\n",
    "print(A.dot(B))\n",
    "print(np.dot(A,B))\n",
    "print(A@B)\n",
    "\n",
    "#Modifying Numpy arrays\n",
    "A*=5\n",
    "print(A)\n",
    "\n",
    "A += 10\n",
    "print(A)\n",
    "\n",
    "A +=B\n",
    "print(A)"
   ]
  },
  {
   "cell_type": "code",
   "execution_count": 8,
   "metadata": {},
   "outputs": [
    {
     "name": "stdout",
     "output_type": "stream",
     "text": [
      "[[ 0  1  2  3]\n",
      " [ 4  5  6  7]\n",
      " [ 8  9 10 11]]\n",
      "66\n",
      "[12 15 18 21]\n",
      "[ 6 22 38]\n",
      "[[ 0  1  2  3]\n",
      " [ 4  6  8 10]\n",
      " [12 15 18 21]]\n"
     ]
    }
   ],
   "source": [
    "b = np.arange(12).reshape(3,4)\n",
    "print(b)\n",
    "print(b.sum()) # total sum\n",
    "print(b.sum(axis=0))# sum column wise\n",
    "print(b.sum(axis=1))# sum row wise\n",
    "print(b.cumsum(axis=0))# sum column wise"
   ]
  },
  {
   "cell_type": "code",
   "execution_count": 17,
   "metadata": {},
   "outputs": [
    {
     "data": {
      "text/plain": [
       "array([729, 512, 343, 216, 125,  64,  27,   8,   1,   0])"
      ]
     },
     "execution_count": 17,
     "metadata": {},
     "output_type": "execute_result"
    }
   ],
   "source": [
    "a= np.array([ 0, 1, 8, 27, 64, 125, 216, 343, 512, 729])\n",
    "a[:0:2] #The third parameter specifies step\n",
    "a[::-1]"
   ]
  },
  {
   "cell_type": "code",
   "execution_count": 20,
   "metadata": {},
   "outputs": [
    {
     "data": {
      "text/plain": [
       "array([[ 0, -1, -2],\n",
       "       [ 1,  0, -1],\n",
       "       [ 2,  1,  0]])"
      ]
     },
     "execution_count": 20,
     "metadata": {},
     "output_type": "execute_result"
    }
   ],
   "source": [
    "def f(x,y):\n",
    "    return 10*x+y\n",
    "# b = np.fromfunction(f,(5,4),dtype=int)\n",
    "b = np.fromfunction(lambda i, j: i - j, (3, 3), dtype=int)\n",
    "b"
   ]
  }
 ],
 "metadata": {
  "kernelspec": {
   "display_name": "Python 3",
   "language": "python",
   "name": "python3"
  },
  "language_info": {
   "codemirror_mode": {
    "name": "ipython",
    "version": 3
   },
   "file_extension": ".py",
   "mimetype": "text/x-python",
   "name": "python",
   "nbconvert_exporter": "python",
   "pygments_lexer": "ipython3",
   "version": "3.7.4"
  }
 },
 "nbformat": 4,
 "nbformat_minor": 2
}
